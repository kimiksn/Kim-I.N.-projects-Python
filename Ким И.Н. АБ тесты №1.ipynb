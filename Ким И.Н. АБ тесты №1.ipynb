{
 "cells": [
  {
   "cell_type": "code",
   "execution_count": 4,
   "metadata": {},
   "outputs": [],
   "source": [
    "import pandas as pd\n",
    "import numpy as np\n",
    "import scipy.stats as ss\n",
    "import matplotlib.pyplot as plt\n",
    "import statsmodels.stats\n",
    "from scipy.stats import kstest"
   ]
  },
  {
   "cell_type": "code",
   "execution_count": 5,
   "metadata": {},
   "outputs": [
    {
     "name": "stdout",
     "output_type": "stream",
     "text": [
      "Populating the interactive namespace from numpy and matplotlib\n"
     ]
    }
   ],
   "source": [
    "%pylab inline"
   ]
  },
  {
   "cell_type": "code",
   "execution_count": 6,
   "metadata": {},
   "outputs": [
    {
     "data": {
      "text/html": [
       "<div>\n",
       "<style scoped>\n",
       "    .dataframe tbody tr th:only-of-type {\n",
       "        vertical-align: middle;\n",
       "    }\n",
       "\n",
       "    .dataframe tbody tr th {\n",
       "        vertical-align: top;\n",
       "    }\n",
       "\n",
       "    .dataframe thead th {\n",
       "        text-align: right;\n",
       "    }\n",
       "</style>\n",
       "<table border=\"1\" class=\"dataframe\">\n",
       "  <thead>\n",
       "    <tr style=\"text-align: right;\">\n",
       "      <th></th>\n",
       "      <th>group</th>\n",
       "      <th>client_id</th>\n",
       "      <th>target</th>\n",
       "    </tr>\n",
       "  </thead>\n",
       "  <tbody>\n",
       "    <tr>\n",
       "      <th>0</th>\n",
       "      <td>test</td>\n",
       "      <td>1</td>\n",
       "      <td>48.294046</td>\n",
       "    </tr>\n",
       "    <tr>\n",
       "      <th>1</th>\n",
       "      <td>test</td>\n",
       "      <td>2</td>\n",
       "      <td>50.561098</td>\n",
       "    </tr>\n",
       "    <tr>\n",
       "      <th>2</th>\n",
       "      <td>test</td>\n",
       "      <td>3</td>\n",
       "      <td>50.987911</td>\n",
       "    </tr>\n",
       "    <tr>\n",
       "      <th>3</th>\n",
       "      <td>test</td>\n",
       "      <td>4</td>\n",
       "      <td>47.819840</td>\n",
       "    </tr>\n",
       "    <tr>\n",
       "      <th>4</th>\n",
       "      <td>test</td>\n",
       "      <td>5</td>\n",
       "      <td>50.153417</td>\n",
       "    </tr>\n",
       "  </tbody>\n",
       "</table>\n",
       "</div>"
      ],
      "text/plain": [
       "  group  client_id     target\n",
       "0  test          1  48.294046\n",
       "1  test          2  50.561098\n",
       "2  test          3  50.987911\n",
       "3  test          4  47.819840\n",
       "4  test          5  50.153417"
      ]
     },
     "execution_count": 6,
     "metadata": {},
     "output_type": "execute_result"
    }
   ],
   "source": [
    "df=pd.read_csv('test_1.csv')\n",
    "df.head()"
   ]
  },
  {
   "cell_type": "code",
   "execution_count": 33,
   "metadata": {},
   "outputs": [],
   "source": [
    "test=df[df['group']=='test']\n",
    "control=df[df['group']=='control']"
   ]
  },
  {
   "cell_type": "code",
   "execution_count": 34,
   "metadata": {},
   "outputs": [
    {
     "data": {
      "text/plain": [
       "(array([ 1.,  1.,  3.,  4.,  2.,  6., 14., 24., 21., 45., 62., 59., 64.,\n",
       "        87., 86., 84., 87., 64., 68., 58., 53., 42., 17., 13.,  8.,  7.,\n",
       "         3.,  2.,  1.,  2.]),\n",
       " array([42.61987143, 43.17597129, 43.73207114, 44.288171  , 44.84427085,\n",
       "        45.40037071, 45.95647056, 46.51257042, 47.06867028, 47.62477013,\n",
       "        48.18086999, 48.73696984, 49.2930697 , 49.84916956, 50.40526941,\n",
       "        50.96136927, 51.51746912, 52.07356898, 52.62966884, 53.18576869,\n",
       "        53.74186855, 54.2979684 , 54.85406826, 55.41016812, 55.96626797,\n",
       "        56.52236783, 57.07846768, 57.63456754, 58.1906674 , 58.74676725,\n",
       "        59.30286711]),\n",
       " <a list of 30 Patch objects>)"
      ]
     },
     "execution_count": 34,
     "metadata": {},
     "output_type": "execute_result"
    },
    {
     "data": {
      "image/png": "[encoded data removed]",
      "text/plain": [
       "<Figure size 432x288 with 1 Axes>"
      ]
     },
     "metadata": {
      "needs_background": "light"
     },
     "output_type": "display_data"
    }
   ],
   "source": [
    "plt.hist(test.target.values,bins=30,color='pink')\n",
    "plt.hist(control.target.values,bins=30,color='green')"
   ]
  },
  {
   "cell_type": "code",
   "execution_count": 35,
   "metadata": {},
   "outputs": [
    {
     "data": {
      "text/plain": [
       "(array([  2.,   2.,   5.,   7.,   7.,  17.,  25.,  39.,  50.,  66.,  62.,\n",
       "         77.,  94., 112., 102.,  82.,  75.,  50.,  44.,  33.,  26.,  14.,\n",
       "          7.,   4.,   3.,   1.,   2.,   0.,   1.,   1.]),\n",
       " array([41.9872647 , 42.58290742, 43.17855014, 43.77419286, 44.36983558,\n",
       "        44.9654783 , 45.56112103, 46.15676375, 46.75240647, 47.34804919,\n",
       "        47.94369191, 48.53933463, 49.13497735, 49.73062008, 50.3262628 ,\n",
       "        50.92190552, 51.51754824, 52.11319096, 52.70883368, 53.3044764 ,\n",
       "        53.90011912, 54.49576185, 55.09140457, 55.68704729, 56.28269001,\n",
       "        56.87833273, 57.47397545, 58.06961817, 58.6652609 , 59.26090362,\n",
       "        59.85654634]),\n",
       " <a list of 30 Patch objects>)"
      ]
     },
     "execution_count": 35,
     "metadata": {},
     "output_type": "execute_result"
    },
    {
     "data": {
      "image/png": "[encoded data removed]",
      "text/plain": [
       "<Figure size 432x288 with 1 Axes>"
      ]
     },
     "metadata": {
      "needs_background": "light"
     },
     "output_type": "display_data"
    }
   ],
   "source": [
    "plt.hist(test.target.values,bins=30,color='pink')"
   ]
  },
  {
   "cell_type": "code",
   "execution_count": 36,
   "metadata": {},
   "outputs": [
    {
     "data": {
      "text/plain": [
       "(array([ 1.,  1.,  3.,  4.,  2.,  6., 14., 24., 21., 45., 62., 59., 64.,\n",
       "        87., 86., 84., 87., 64., 68., 58., 53., 42., 17., 13.,  8.,  7.,\n",
       "         3.,  2.,  1.,  2.]),\n",
       " array([42.61987143, 43.17597129, 43.73207114, 44.288171  , 44.84427085,\n",
       "        45.40037071, 45.95647056, 46.51257042, 47.06867028, 47.62477013,\n",
       "        48.18086999, 48.73696984, 49.2930697 , 49.84916956, 50.40526941,\n",
       "        50.96136927, 51.51746912, 52.07356898, 52.62966884, 53.18576869,\n",
       "        53.74186855, 54.2979684 , 54.85406826, 55.41016812, 55.96626797,\n",
       "        56.52236783, 57.07846768, 57.63456754, 58.1906674 , 58.74676725,\n",
       "        59.30286711]),\n",
       " <a list of 30 Patch objects>)"
      ]
     },
     "execution_count": 36,
     "metadata": {},
     "output_type": "execute_result"
    },
    {
     "data": {
      "image/png": "[encoded data removed]",
      "text/plain": [
       "<Figure size 432x288 with 1 Axes>"
      ]
     },
     "metadata": {
      "needs_background": "light"
     },
     "output_type": "display_data"
    }
   ],
   "source": [
    "plt.hist(control.target.values,bins=30,color='green')"
   ]
  },
  {
   "cell_type": "markdown",
   "metadata": {},
   "source": [
    "## Проверим обе выборки на нормальное распределение, чтобы понять, по какому критерию смотреть различие средних\n",
    "\n",
    "H0: x взята из генеральной совокупности с распределением F (оно может быть любым: нормальное, экспоненциальное и т.д.)\n",
    "\n",
    "H1: x взята из генеральной совокупности с другим распределением"
   ]
  },
  {
   "cell_type": "code",
   "execution_count": 41,
   "metadata": {},
   "outputs": [
    {
     "data": {
      "text/plain": [
       "((array([-3.20045713, -2.93546521, -2.78760269, ...,  2.78760269,\n",
       "          2.93546521,  3.20045713]),\n",
       "  array([41.9872647 , 42.37260039, 42.76632564, ..., 57.96396432,\n",
       "         59.2103887 , 59.85654634])),\n",
       " (2.5228902582671515, 49.95894395407758, 0.9988696017296786))"
      ]
     },
     "execution_count": 41,
     "metadata": {},
     "output_type": "execute_result"
    },
    {
     "data": {
      "image/png": "[encoded data removed]",
      "text/plain": [
       "<Figure size 432x288 with 1 Axes>"
      ]
     },
     "metadata": {
      "needs_background": "light"
     },
     "output_type": "display_data"
    }
   ],
   "source": [
    "ss.probplot(test.target.values, dist=\"norm\", plot=pylab)"
   ]
  },
  {
   "cell_type": "code",
   "execution_count": 42,
   "metadata": {},
   "outputs": [
    {
     "data": {
      "text/plain": [
       "((array([-3.19410727e+00, -2.92862832e+00, -2.78046228e+00, -2.67595340e+00,\n",
       "         -2.59441353e+00, -2.52716372e+00, -2.46970815e+00, -2.41940604e+00,\n",
       "         -2.37456967e+00, -2.33405267e+00, -2.29703965e+00, -2.26292923e+00,\n",
       "         -2.23126477e+00, -2.20169104e+00, -2.17392612e+00, -2.14774237e+00,\n",
       "         -2.12295322e+00, -2.09940385e+00, -2.07696424e+00, -2.05552417e+00,\n",
       "         -2.03498932e+00, -2.01527836e+00, -1.99632062e+00, -1.97805432e+00,\n",
       "         -1.96042511e+00, -1.94338493e+00, -1.92689103e+00, -1.91090528e+00,\n",
       "         -1.89539343e+00, -1.88032467e+00, -1.86567116e+00, -1.85140764e+00,\n",
       "         -1.83751113e+00, -1.82396067e+00, -1.81073706e+00, -1.79782272e+00,\n",
       "         -1.78520143e+00, -1.77285827e+00, -1.76077946e+00, -1.74895220e+00,\n",
       "         -1.73736465e+00, -1.72600580e+00, -1.71486537e+00, -1.70393379e+00,\n",
       "         -1.69320212e+00, -1.68266198e+00, -1.67230553e+00, -1.66212540e+00,\n",
       "         -1.65211467e+00, -1.64226681e+00, -1.63257570e+00, -1.62303553e+00,\n",
       "         -1.61364084e+00, -1.60438644e+00, -1.59526745e+00, -1.58627922e+00,\n",
       "         -1.57741734e+00, -1.56867763e+00, -1.56005613e+00, -1.55154906e+00,\n",
       "         -1.54315281e+00, -1.53486396e+00, -1.52667924e+00, -1.51859553e+00,\n",
       "         -1.51060986e+00, -1.50271937e+00, -1.49492135e+00, -1.48721319e+00,\n",
       "         -1.47959240e+00, -1.47205658e+00, -1.46460344e+00, -1.45723078e+00,\n",
       "         -1.44993648e+00, -1.44271853e+00, -1.43557498e+00, -1.42850393e+00,\n",
       "         -1.42150360e+00, -1.41457224e+00, -1.40770819e+00, -1.40090983e+00,\n",
       "         -1.39417560e+00, -1.38750402e+00, -1.38089362e+00, -1.37434302e+00,\n",
       "         -1.36785088e+00, -1.36141587e+00, -1.35503675e+00, -1.34871231e+00,\n",
       "         -1.34244135e+00, -1.33622275e+00, -1.33005539e+00, -1.32393821e+00,\n",
       "         -1.31787018e+00, -1.31185028e+00, -1.30587756e+00, -1.29995106e+00,\n",
       "         -1.29406987e+00, -1.28823311e+00, -1.28243990e+00, -1.27668942e+00,\n",
       "         -1.27098085e+00, -1.26531340e+00, -1.25968630e+00, -1.25409881e+00,\n",
       "         -1.24855020e+00, -1.24303976e+00, -1.23756681e+00, -1.23213069e+00,\n",
       "         -1.22673073e+00, -1.22136631e+00, -1.21603681e+00, -1.21074162e+00,\n",
       "         -1.20548017e+00, -1.20025188e+00, -1.19505619e+00, -1.18989256e+00,\n",
       "         -1.18476047e+00, -1.17965940e+00, -1.17458883e+00, -1.16954829e+00,\n",
       "         -1.16453729e+00, -1.15955536e+00, -1.15460205e+00, -1.14967690e+00,\n",
       "         -1.14477948e+00, -1.13990937e+00, -1.13506615e+00, -1.13024940e+00,\n",
       "         -1.12545874e+00, -1.12069377e+00, -1.11595411e+00, -1.11123938e+00,\n",
       "         -1.10654923e+00, -1.10188329e+00, -1.09724123e+00, -1.09262268e+00,\n",
       "         -1.08802733e+00, -1.08345483e+00, -1.07890488e+00, -1.07437716e+00,\n",
       "         -1.06987135e+00, -1.06538716e+00, -1.06092429e+00, -1.05648246e+00,\n",
       "         -1.05206137e+00, -1.04766075e+00, -1.04328032e+00, -1.03891982e+00,\n",
       "         -1.03457899e+00, -1.03025756e+00, -1.02595529e+00, -1.02167193e+00,\n",
       "         -1.01740722e+00, -1.01316095e+00, -1.00893286e+00, -1.00472273e+00,\n",
       "         -1.00053034e+00, -9.96355459e-01, -9.92197872e-01, -9.88057366e-01,\n",
       "         -9.83933729e-01, -9.79826757e-01, -9.75736245e-01, -9.71661995e-01,\n",
       "         -9.67603810e-01, -9.63561498e-01, -9.59534870e-01, -9.55523740e-01,\n",
       "         -9.51527925e-01, -9.47547245e-01, -9.43581524e-01, -9.39630587e-01,\n",
       "         -9.35694263e-01, -9.31772384e-01, -9.27864785e-01, -9.23971303e-01,\n",
       "         -9.20091777e-01, -9.16226050e-01, -9.12373967e-01, -9.08535375e-01,\n",
       "         -9.04710123e-01, -9.00898064e-01, -8.97099052e-01, -8.93312943e-01,\n",
       "         -8.89539597e-01, -8.85778873e-01, -8.82030636e-01, -8.78294750e-01,\n",
       "         -8.74571082e-01, -8.70859501e-01, -8.67159878e-01, -8.63472087e-01,\n",
       "         -8.59796001e-01, -8.56131498e-01, -8.52478455e-01, -8.48836754e-01,\n",
       "         -8.45206274e-01, -8.41586901e-01, -8.37978520e-01, -8.34381016e-01,\n",
       "         -8.30794278e-01, -8.27218197e-01, -8.23652663e-01, -8.20097570e-01,\n",
       "         -8.16552812e-01, -8.13018284e-01, -8.09493884e-01, -8.05979511e-01,\n",
       "         -8.02475064e-01, -7.98980445e-01, -7.95495556e-01, -7.92020302e-01,\n",
       "         -7.88554586e-01, -7.85098317e-01, -7.81651400e-01, -7.78213746e-01,\n",
       "         -7.74785264e-01, -7.71365865e-01, -7.67955461e-01, -7.64553966e-01,\n",
       "         -7.61161293e-01, -7.57777360e-01, -7.54402082e-01, -7.51035376e-01,\n",
       "         -7.47677162e-01, -7.44327358e-01, -7.40985887e-01, -7.37652668e-01,\n",
       "         -7.34327624e-01, -7.31010680e-01, -7.27701759e-01, -7.24400786e-01,\n",
       "         -7.21107688e-01, -7.17822391e-01, -7.14544824e-01, -7.11274915e-01,\n",
       "         -7.08012593e-01, -7.04757790e-01, -7.01510435e-01, -6.98270461e-01,\n",
       "         -6.95037800e-01, -6.91812387e-01, -6.88594154e-01, -6.85383038e-01,\n",
       "         -6.82178973e-01, -6.78981897e-01, -6.75791745e-01, -6.72608456e-01,\n",
       "         -6.69431969e-01, -6.66262222e-01, -6.63099154e-01, -6.59942708e-01,\n",
       "         -6.56792822e-01, -6.53649440e-01, -6.50512503e-01, -6.47381955e-01,\n",
       "         -6.44257738e-01, -6.41139797e-01, -6.38028077e-01, -6.34922522e-01,\n",
       "         -6.31823078e-01, -6.28729693e-01, -6.25642312e-01, -6.22560883e-01,\n",
       "         -6.19485354e-01, -6.16415674e-01, -6.13351791e-01, -6.10293655e-01,\n",
       "         -6.07241217e-01, -6.04194425e-01, -6.01153232e-01, -5.98117589e-01,\n",
       "         -5.95087448e-01, -5.92062760e-01, -5.89043480e-01, -5.86029560e-01,\n",
       "         -5.83020954e-01, -5.80017616e-01, -5.77019501e-01, -5.74026563e-01,\n",
       "         -5.71038759e-01, -5.68056043e-01, -5.65078373e-01, -5.62105704e-01,\n",
       "         -5.59137995e-01, -5.56175202e-01, -5.53217283e-01, -5.50264196e-01,\n",
       "         -5.47315901e-01, -5.44372355e-01, -5.41433518e-01, -5.38499350e-01,\n",
       "         -5.35569811e-01, -5.32644862e-01, -5.29724462e-01, -5.26808573e-01,\n",
       "         -5.23897156e-01, -5.20990173e-01, -5.18087586e-01, -5.15189358e-01,\n",
       "         -5.12295450e-01, -5.09405827e-01, -5.06520451e-01, -5.03639286e-01,\n",
       "         -5.00762295e-01, -4.97889443e-01, -4.95020695e-01, -4.92156015e-01,\n",
       "         -4.89295367e-01, -4.86438719e-01, -4.83586034e-01, -4.80737280e-01,\n",
       "         -4.77892421e-01, -4.75051425e-01, -4.72214258e-01, -4.69380887e-01,\n",
       "         -4.66551279e-01, -4.63725402e-01, -4.60903223e-01, -4.58084710e-01,\n",
       "         -4.55269831e-01, -4.52458556e-01, -4.49650851e-01, -4.46846687e-01,\n",
       "         -4.44046032e-01, -4.41248856e-01, -4.38455128e-01, -4.35664818e-01,\n",
       "         -4.32877896e-01, -4.30094332e-01, -4.27314096e-01, -4.24537160e-01,\n",
       "         -4.21763493e-01, -4.18993068e-01, -4.16225854e-01, -4.13461824e-01,\n",
       "         -4.10700950e-01, -4.07943202e-01, -4.05188553e-01, -4.02436976e-01,\n",
       "         -3.99688442e-01, -3.96942924e-01, -3.94200395e-01, -3.91460828e-01,\n",
       "         -3.88724195e-01, -3.85990471e-01, -3.83259629e-01, -3.80531641e-01,\n",
       "         -3.77806483e-01, -3.75084127e-01, -3.72364548e-01, -3.69647721e-01,\n",
       "         -3.66933619e-01, -3.64222218e-01, -3.61513491e-01, -3.58807415e-01,\n",
       "         -3.56103963e-01, -3.53403112e-01, -3.50704836e-01, -3.48009111e-01,\n",
       "         -3.45315913e-01, -3.42625217e-01, -3.39936999e-01, -3.37251236e-01,\n",
       "         -3.34567903e-01, -3.31886977e-01, -3.29208434e-01, -3.26532251e-01,\n",
       "         -3.23858405e-01, -3.21186872e-01, -3.18517629e-01, -3.15850654e-01,\n",
       "         -3.13185924e-01, -3.10523415e-01, -3.07863106e-01, -3.05204975e-01,\n",
       "         -3.02548997e-01, -2.99895153e-01, -2.97243419e-01, -2.94593773e-01,\n",
       "         -2.91946194e-01, -2.89300660e-01, -2.86657149e-01, -2.84015640e-01,\n",
       "         -2.81376111e-01, -2.78738540e-01, -2.76102908e-01, -2.73469192e-01,\n",
       "         -2.70837372e-01, -2.68207426e-01, -2.65579335e-01, -2.62953076e-01,\n",
       "         -2.60328629e-01, -2.57705975e-01, -2.55085092e-01, -2.52465959e-01,\n",
       "         -2.49848558e-01, -2.47232867e-01, -2.44618867e-01, -2.42006537e-01,\n",
       "         -2.39395857e-01, -2.36786808e-01, -2.34179370e-01, -2.31573523e-01,\n",
       "         -2.28969248e-01, -2.26366524e-01, -2.23765334e-01, -2.21165656e-01,\n",
       "         -2.18567472e-01, -2.15970763e-01, -2.13375509e-01, -2.10781692e-01,\n",
       "         -2.08189292e-01, -2.05598290e-01, -2.03008668e-01, -2.00420406e-01,\n",
       "         -1.97833487e-01, -1.95247891e-01, -1.92663599e-01, -1.90080594e-01,\n",
       "         -1.87498856e-01, -1.84918367e-01, -1.82339109e-01, -1.79761063e-01,\n",
       "         -1.77184212e-01, -1.74608536e-01, -1.72034019e-01, -1.69460641e-01,\n",
       "         -1.66888385e-01, -1.64317233e-01, -1.61747166e-01, -1.59178168e-01,\n",
       "         -1.56610219e-01, -1.54043303e-01, -1.51477402e-01, -1.48912497e-01,\n",
       "         -1.46348572e-01, -1.43785608e-01, -1.41223589e-01, -1.38662496e-01,\n",
       "         -1.36102312e-01, -1.33543021e-01, -1.30984603e-01, -1.28427043e-01,\n",
       "         -1.25870322e-01, -1.23314424e-01, -1.20759331e-01, -1.18205027e-01,\n",
       "         -1.15651493e-01, -1.13098713e-01, -1.10546671e-01, -1.07995347e-01,\n",
       "         -1.05444727e-01, -1.02894793e-01, -1.00345527e-01, -9.77969132e-02,\n",
       "         -9.52489345e-02, -9.27015741e-02, -9.01548151e-02, -8.76086407e-02,\n",
       "         -8.50630342e-02, -8.25179787e-02, -7.99734576e-02, -7.74294542e-02,\n",
       "         -7.48859519e-02, -7.23429339e-02, -6.98003836e-02, -6.72582846e-02,\n",
       "         -6.47166200e-02, -6.21753735e-02, -5.96345285e-02, -5.70940683e-02,\n",
       "         -5.45539767e-02, -5.20142369e-02, -4.94748326e-02, -4.69357473e-02,\n",
       "         -4.43969646e-02, -4.18584680e-02, -3.93202411e-02, -3.67822675e-02,\n",
       "         -3.42445308e-02, -3.17070146e-02, -2.91697026e-02, -2.66325784e-02,\n",
       "         -2.40956255e-02, -2.15588278e-02, -1.90221688e-02, -1.64856321e-02,\n",
       "         -1.39492016e-02, -1.14128607e-02, -8.87659334e-03, -6.34038303e-03,\n",
       "         -3.80421351e-03, -1.26806845e-03,  1.26806845e-03,  3.80421351e-03,\n",
       "          6.34038303e-03,  8.87659334e-03,  1.14128607e-02,  1.39492016e-02,\n",
       "          1.64856321e-02,  1.90221688e-02,  2.15588278e-02,  2.40956255e-02,\n",
       "          2.66325784e-02,  2.91697026e-02,  3.17070146e-02,  3.42445308e-02,\n",
       "          3.67822675e-02,  3.93202411e-02,  4.18584680e-02,  4.43969646e-02,\n",
       "          4.69357473e-02,  4.94748326e-02,  5.20142369e-02,  5.45539767e-02,\n",
       "          5.70940683e-02,  5.96345285e-02,  6.21753735e-02,  6.47166200e-02,\n",
       "          6.72582846e-02,  6.98003836e-02,  7.23429339e-02,  7.48859519e-02,\n",
       "          7.74294542e-02,  7.99734576e-02,  8.25179787e-02,  8.50630342e-02,\n",
       "          8.76086407e-02,  9.01548151e-02,  9.27015741e-02,  9.52489345e-02,\n",
       "          9.77969132e-02,  1.00345527e-01,  1.02894793e-01,  1.05444727e-01,\n",
       "          1.07995347e-01,  1.10546671e-01,  1.13098713e-01,  1.15651493e-01,\n",
       "          1.18205027e-01,  1.20759331e-01,  1.23314424e-01,  1.25870322e-01,\n",
       "          1.28427043e-01,  1.30984603e-01,  1.33543021e-01,  1.36102312e-01,\n",
       "          1.38662496e-01,  1.41223589e-01,  1.43785608e-01,  1.46348572e-01,\n",
       "          1.48912497e-01,  1.51477402e-01,  1.54043303e-01,  1.56610219e-01,\n",
       "          1.59178168e-01,  1.61747166e-01,  1.64317233e-01,  1.66888385e-01,\n",
       "          1.69460641e-01,  1.72034019e-01,  1.74608536e-01,  1.77184212e-01,\n",
       "          1.79761063e-01,  1.82339109e-01,  1.84918367e-01,  1.87498856e-01,\n",
       "          1.90080594e-01,  1.92663599e-01,  1.95247891e-01,  1.97833487e-01,\n",
       "          2.00420406e-01,  2.03008668e-01,  2.05598290e-01,  2.08189292e-01,\n",
       "          2.10781692e-01,  2.13375509e-01,  2.15970763e-01,  2.18567472e-01,\n",
       "          2.21165656e-01,  2.23765334e-01,  2.26366524e-01,  2.28969248e-01,\n",
       "          2.31573523e-01,  2.34179370e-01,  2.36786808e-01,  2.39395857e-01,\n",
       "          2.42006537e-01,  2.44618867e-01,  2.47232867e-01,  2.49848558e-01,\n",
       "          2.52465959e-01,  2.55085092e-01,  2.57705975e-01,  2.60328629e-01,\n",
       "          2.62953076e-01,  2.65579335e-01,  2.68207426e-01,  2.70837372e-01,\n",
       "          2.73469192e-01,  2.76102908e-01,  2.78738540e-01,  2.81376111e-01,\n",
       "          2.84015640e-01,  2.86657149e-01,  2.89300660e-01,  2.91946194e-01,\n",
       "          2.94593773e-01,  2.97243419e-01,  2.99895153e-01,  3.02548997e-01,\n",
       "          3.05204975e-01,  3.07863106e-01,  3.10523415e-01,  3.13185924e-01,\n",
       "          3.15850654e-01,  3.18517629e-01,  3.21186872e-01,  3.23858405e-01,\n",
       "          3.26532251e-01,  3.29208434e-01,  3.31886977e-01,  3.34567903e-01,\n",
       "          3.37251236e-01,  3.39936999e-01,  3.42625217e-01,  3.45315913e-01,\n",
       "          3.48009111e-01,  3.50704836e-01,  3.53403112e-01,  3.56103963e-01,\n",
       "          3.58807415e-01,  3.61513491e-01,  3.64222218e-01,  3.66933619e-01,\n",
       "          3.69647721e-01,  3.72364548e-01,  3.75084127e-01,  3.77806483e-01,\n",
       "          3.80531641e-01,  3.83259629e-01,  3.85990471e-01,  3.88724195e-01,\n",
       "          3.91460828e-01,  3.94200395e-01,  3.96942924e-01,  3.99688442e-01,\n",
       "          4.02436976e-01,  4.05188553e-01,  4.07943202e-01,  4.10700950e-01,\n",
       "          4.13461824e-01,  4.16225854e-01,  4.18993068e-01,  4.21763493e-01,\n",
       "          4.24537160e-01,  4.27314096e-01,  4.30094332e-01,  4.32877896e-01,\n",
       "          4.35664818e-01,  4.38455128e-01,  4.41248856e-01,  4.44046032e-01,\n",
       "          4.46846687e-01,  4.49650851e-01,  4.52458556e-01,  4.55269831e-01,\n",
       "          4.58084710e-01,  4.60903223e-01,  4.63725402e-01,  4.66551279e-01,\n",
       "          4.69380887e-01,  4.72214258e-01,  4.75051425e-01,  4.77892421e-01,\n",
       "          4.80737280e-01,  4.83586034e-01,  4.86438719e-01,  4.89295367e-01,\n",
       "          4.92156015e-01,  4.95020695e-01,  4.97889443e-01,  5.00762295e-01,\n",
       "          5.03639286e-01,  5.06520451e-01,  5.09405827e-01,  5.12295450e-01,\n",
       "          5.15189358e-01,  5.18087586e-01,  5.20990173e-01,  5.23897156e-01,\n",
       "          5.26808573e-01,  5.29724462e-01,  5.32644862e-01,  5.35569811e-01,\n",
       "          5.38499350e-01,  5.41433518e-01,  5.44372355e-01,  5.47315901e-01,\n",
       "          5.50264196e-01,  5.53217283e-01,  5.56175202e-01,  5.59137995e-01,\n",
       "          5.62105704e-01,  5.65078373e-01,  5.68056043e-01,  5.71038759e-01,\n",
       "          5.74026563e-01,  5.77019501e-01,  5.80017616e-01,  5.83020954e-01,\n",
       "          5.86029560e-01,  5.89043480e-01,  5.92062760e-01,  5.95087448e-01,\n",
       "          5.98117589e-01,  6.01153232e-01,  6.04194425e-01,  6.07241217e-01,\n",
       "          6.10293655e-01,  6.13351791e-01,  6.16415674e-01,  6.19485354e-01,\n",
       "          6.22560883e-01,  6.25642312e-01,  6.28729693e-01,  6.31823078e-01,\n",
       "          6.34922522e-01,  6.38028077e-01,  6.41139797e-01,  6.44257738e-01,\n",
       "          6.47381955e-01,  6.50512503e-01,  6.53649440e-01,  6.56792822e-01,\n",
       "          6.59942708e-01,  6.63099154e-01,  6.66262222e-01,  6.69431969e-01,\n",
       "          6.72608456e-01,  6.75791745e-01,  6.78981897e-01,  6.82178973e-01,\n",
       "          6.85383038e-01,  6.88594154e-01,  6.91812387e-01,  6.95037800e-01,\n",
       "          6.98270461e-01,  7.01510435e-01,  7.04757790e-01,  7.08012593e-01,\n",
       "          7.11274915e-01,  7.14544824e-01,  7.17822391e-01,  7.21107688e-01,\n",
       "          7.24400786e-01,  7.27701759e-01,  7.31010680e-01,  7.34327624e-01,\n",
       "          7.37652668e-01,  7.40985887e-01,  7.44327358e-01,  7.47677162e-01,\n",
       "          7.51035376e-01,  7.54402082e-01,  7.57777360e-01,  7.61161293e-01,\n",
       "          7.64553966e-01,  7.67955461e-01,  7.71365865e-01,  7.74785264e-01,\n",
       "          7.78213746e-01,  7.81651400e-01,  7.85098317e-01,  7.88554586e-01,\n",
       "          7.92020302e-01,  7.95495556e-01,  7.98980445e-01,  8.02475064e-01,\n",
       "          8.05979511e-01,  8.09493884e-01,  8.13018284e-01,  8.16552812e-01,\n",
       "          8.20097570e-01,  8.23652663e-01,  8.27218197e-01,  8.30794278e-01,\n",
       "          8.34381016e-01,  8.37978520e-01,  8.41586901e-01,  8.45206274e-01,\n",
       "          8.48836754e-01,  8.52478455e-01,  8.56131498e-01,  8.59796001e-01,\n",
       "          8.63472087e-01,  8.67159878e-01,  8.70859501e-01,  8.74571082e-01,\n",
       "          8.78294750e-01,  8.82030636e-01,  8.85778873e-01,  8.89539597e-01,\n",
       "          8.93312943e-01,  8.97099052e-01,  9.00898064e-01,  9.04710123e-01,\n",
       "          9.08535375e-01,  9.12373967e-01,  9.16226050e-01,  9.20091777e-01,\n",
       "          9.23971303e-01,  9.27864785e-01,  9.31772384e-01,  9.35694263e-01,\n",
       "          9.39630587e-01,  9.43581524e-01,  9.47547245e-01,  9.51527925e-01,\n",
       "          9.55523740e-01,  9.59534870e-01,  9.63561498e-01,  9.67603810e-01,\n",
       "          9.71661995e-01,  9.75736245e-01,  9.79826757e-01,  9.83933729e-01,\n",
       "          9.88057366e-01,  9.92197872e-01,  9.96355459e-01,  1.00053034e+00,\n",
       "          1.00472273e+00,  1.00893286e+00,  1.01316095e+00,  1.01740722e+00,\n",
       "          1.02167193e+00,  1.02595529e+00,  1.03025756e+00,  1.03457899e+00,\n",
       "          1.03891982e+00,  1.04328032e+00,  1.04766075e+00,  1.05206137e+00,\n",
       "          1.05648246e+00,  1.06092429e+00,  1.06538716e+00,  1.06987135e+00,\n",
       "          1.07437716e+00,  1.07890488e+00,  1.08345483e+00,  1.08802733e+00,\n",
       "          1.09262268e+00,  1.09724123e+00,  1.10188329e+00,  1.10654923e+00,\n",
       "          1.11123938e+00,  1.11595411e+00,  1.12069377e+00,  1.12545874e+00,\n",
       "          1.13024940e+00,  1.13506615e+00,  1.13990937e+00,  1.14477948e+00,\n",
       "          1.14967690e+00,  1.15460205e+00,  1.15955536e+00,  1.16453729e+00,\n",
       "          1.16954829e+00,  1.17458883e+00,  1.17965940e+00,  1.18476047e+00,\n",
       "          1.18989256e+00,  1.19505619e+00,  1.20025188e+00,  1.20548017e+00,\n",
       "          1.21074162e+00,  1.21603681e+00,  1.22136631e+00,  1.22673073e+00,\n",
       "          1.23213069e+00,  1.23756681e+00,  1.24303976e+00,  1.24855020e+00,\n",
       "          1.25409881e+00,  1.25968630e+00,  1.26531340e+00,  1.27098085e+00,\n",
       "          1.27668942e+00,  1.28243990e+00,  1.28823311e+00,  1.29406987e+00,\n",
       "          1.29995106e+00,  1.30587756e+00,  1.31185028e+00,  1.31787018e+00,\n",
       "          1.32393821e+00,  1.33005539e+00,  1.33622275e+00,  1.34244135e+00,\n",
       "          1.34871231e+00,  1.35503675e+00,  1.36141587e+00,  1.36785088e+00,\n",
       "          1.37434302e+00,  1.38089362e+00,  1.38750402e+00,  1.39417560e+00,\n",
       "          1.40090983e+00,  1.40770819e+00,  1.41457224e+00,  1.42150360e+00,\n",
       "          1.42850393e+00,  1.43557498e+00,  1.44271853e+00,  1.44993648e+00,\n",
       "          1.45723078e+00,  1.46460344e+00,  1.47205658e+00,  1.47959240e+00,\n",
       "          1.48721319e+00,  1.49492135e+00,  1.50271937e+00,  1.51060986e+00,\n",
       "          1.51859553e+00,  1.52667924e+00,  1.53486396e+00,  1.54315281e+00,\n",
       "          1.55154906e+00,  1.56005613e+00,  1.56867763e+00,  1.57741734e+00,\n",
       "          1.58627922e+00,  1.59526745e+00,  1.60438644e+00,  1.61364084e+00,\n",
       "          1.62303553e+00,  1.63257570e+00,  1.64226681e+00,  1.65211467e+00,\n",
       "          1.66212540e+00,  1.67230553e+00,  1.68266198e+00,  1.69320212e+00,\n",
       "          1.70393379e+00,  1.71486537e+00,  1.72600580e+00,  1.73736465e+00,\n",
       "          1.74895220e+00,  1.76077946e+00,  1.77285827e+00,  1.78520143e+00,\n",
       "          1.79782272e+00,  1.81073706e+00,  1.82396067e+00,  1.83751113e+00,\n",
       "          1.85140764e+00,  1.86567116e+00,  1.88032467e+00,  1.89539343e+00,\n",
       "          1.91090528e+00,  1.92689103e+00,  1.94338493e+00,  1.96042511e+00,\n",
       "          1.97805432e+00,  1.99632062e+00,  2.01527836e+00,  2.03498932e+00,\n",
       "          2.05552417e+00,  2.07696424e+00,  2.09940385e+00,  2.12295322e+00,\n",
       "          2.14774237e+00,  2.17392612e+00,  2.20169104e+00,  2.23126477e+00,\n",
       "          2.26292923e+00,  2.29703965e+00,  2.33405267e+00,  2.37456967e+00,\n",
       "          2.41940604e+00,  2.46970815e+00,  2.52716372e+00,  2.59441353e+00,\n",
       "          2.67595340e+00,  2.78046228e+00,  2.92862832e+00,  3.19410727e+00]),\n",
       "  array([42.61987143, 43.3149978 , 44.15099257, 44.17309985, 44.26496364,\n",
       "         44.5236039 , 44.64650372, 44.6652859 , 44.73382359, 44.93902784,\n",
       "         45.20365274, 45.43063568, 45.54221229, 45.70849921, 45.71119565,\n",
       "         45.72132522, 45.93966328, 46.01430187, 46.03514831, 46.07001268,\n",
       "         46.09464158, 46.10967473, 46.17027807, 46.19441838, 46.27344593,\n",
       "         46.29352484, 46.32224342, 46.34940715, 46.36540659, 46.42835034,\n",
       "         46.44754085, 46.55877054, 46.57046964, 46.59494364, 46.67118635,\n",
       "         46.69371305, 46.69804126, 46.72880938, 46.73714277, 46.74285591,\n",
       "         46.75221794, 46.77102039, 46.78238332, 46.78326063, 46.80040218,\n",
       "         46.83087964, 46.86291428, 46.88221766, 46.9129508 , 46.93263791,\n",
       "         46.96530273, 47.01722262, 47.03694303, 47.04092556, 47.0518973 ,\n",
       "         47.09419451, 47.15011801, 47.17847836, 47.18196356, 47.19582713,\n",
       "         47.25063451, 47.27045452, 47.27110237, 47.28936488, 47.30786673,\n",
       "         47.32092958, 47.32260136, 47.33902161, 47.38232388, 47.41943617,\n",
       "         47.43630147, 47.45597364, 47.49069323, 47.50828663, 47.51935501,\n",
       "         47.56189338, 47.6279801 , 47.66855568, 47.67516718, 47.676356  ,\n",
       "         47.70594395, 47.7155705 , 47.71857956, 47.72798578, 47.73909458,\n",
       "         47.75077843, 47.75175794, 47.76456025, 47.7737789 , 47.77955839,\n",
       "         47.78127888, 47.78597205, 47.78839782, 47.79402101, 47.79724547,\n",
       "         47.82171061, 47.82531324, 47.82609258, 47.83567173, 47.87693379,\n",
       "         47.8792584 , 47.88344128, 47.90748493, 47.91762769, 47.94313105,\n",
       "         47.94866706, 47.98882928, 47.9894094 , 47.99367388, 48.00177176,\n",
       "         48.01332692, 48.04294126, 48.04571017, 48.04851153, 48.0653384 ,\n",
       "         48.07597647, 48.10154528, 48.10999856, 48.11390458, 48.14340113,\n",
       "         48.16336646, 48.18946701, 48.1894894 , 48.20382106, 48.25597566,\n",
       "         48.28421748, 48.28938577, 48.31310003, 48.31415709, 48.31620885,\n",
       "         48.33020685, 48.33759571, 48.34567845, 48.36438617, 48.37699139,\n",
       "         48.38307454, 48.39428648, 48.40105294, 48.4163368 , 48.41731914,\n",
       "         48.41896811, 48.42412647, 48.42556027, 48.43226053, 48.43231837,\n",
       "         48.43652613, 48.44405166, 48.45358711, 48.45625104, 48.45931803,\n",
       "         48.47602751, 48.48357204, 48.48976947, 48.50856146, 48.50909033,\n",
       "         48.50958168, 48.51005261, 48.5294742 , 48.5561443 , 48.56726117,\n",
       "         48.58764269, 48.59254854, 48.60572173, 48.60807774, 48.60926683,\n",
       "         48.61034676, 48.61333305, 48.62101047, 48.62205898, 48.62386748,\n",
       "         48.62761396, 48.63189481, 48.63825433, 48.64985277, 48.65973168,\n",
       "         48.68012064, 48.69135546, 48.71059807, 48.71311808, 48.71470947,\n",
       "         48.71901249, 48.72166554, 48.73252988, 48.7465044 , 48.74934671,\n",
       "         48.77905417, 48.78745059, 48.79901983, 48.82304248, 48.83180312,\n",
       "         48.83401036, 48.84647455, 48.84815379, 48.84829801, 48.8534041 ,\n",
       "         48.90361706, 48.94962249, 48.96245443, 48.96573613, 48.96753628,\n",
       "         48.98076998, 48.98311317, 48.98482129, 48.98658794, 48.99103087,\n",
       "         48.99180396, 48.99433357, 49.01766566, 49.02792042, 49.03037746,\n",
       "         49.03781614, 49.04119856, 49.04393809, 49.05902849, 49.09234064,\n",
       "         49.0952444 , 49.10792592, 49.10931591, 49.11219411, 49.11801255,\n",
       "         49.12449445, 49.12747371, 49.13766821, 49.13874385, 49.15235667,\n",
       "         49.15932179, 49.1597798 , 49.17166422, 49.18302468, 49.19172382,\n",
       "         49.19473482, 49.19980263, 49.20295345, 49.20893043, 49.21014839,\n",
       "         49.21027542, 49.21847268, 49.22109324, 49.23309523, 49.23785   ,\n",
       "         49.23946472, 49.25271908, 49.32048179, 49.33080171, 49.33941773,\n",
       "         49.33983583, 49.34930547, 49.36354068, 49.36524404, 49.37157817,\n",
       "         49.37182389, 49.38602541, 49.39507108, 49.43240073, 49.43444724,\n",
       "         49.44249415, 49.45354231, 49.4663775 , 49.4868506 , 49.49873041,\n",
       "         49.50007148, 49.51042972, 49.51218961, 49.52087264, 49.5214248 ,\n",
       "         49.52158843, 49.52508083, 49.5256612 , 49.53199569, 49.54478186,\n",
       "         49.57332532, 49.57884328, 49.58391502, 49.59374975, 49.59651308,\n",
       "         49.59839566, 49.60140328, 49.60633127, 49.61221017, 49.62410603,\n",
       "         49.6295394 , 49.64001808, 49.66053945, 49.66491549, 49.6672523 ,\n",
       "         49.68420531, 49.69028348, 49.69214557, 49.6979146 , 49.7298534 ,\n",
       "         49.73213971, 49.75243934, 49.76075222, 49.76084802, 49.76491367,\n",
       "         49.76695019, 49.76793366, 49.77419652, 49.77649576, 49.80111647,\n",
       "         49.80502004, 49.80632322, 49.8184932 , 49.81974903, 49.8246503 ,\n",
       "         49.84218065, 49.8494225 , 49.85038333, 49.85076934, 49.86988844,\n",
       "         49.87509233, 49.87926469, 49.88069721, 49.88188586, 49.88225115,\n",
       "         49.88347643, 49.89036545, 49.89907877, 49.90368436, 49.90615851,\n",
       "         49.93082167, 49.97476357, 49.97544413, 49.97965205, 49.9830084 ,\n",
       "         49.98520609, 50.00422221, 50.01729523, 50.02288774, 50.02471168,\n",
       "         50.02740708, 50.05289974, 50.0570299 , 50.05973545, 50.06443148,\n",
       "         50.06964489, 50.08181351, 50.08483889, 50.08494407, 50.08996458,\n",
       "         50.09015066, 50.09156374, 50.10663958, 50.11472375, 50.11808797,\n",
       "         50.12309054, 50.12926846, 50.12968525, 50.13718804, 50.13905167,\n",
       "         50.14101428, 50.14194107, 50.15027282, 50.15135971, 50.16455304,\n",
       "         50.16856212, 50.18047133, 50.1893    , 50.19333963, 50.19383332,\n",
       "         50.19485339, 50.20001738, 50.20512122, 50.20778763, 50.21482828,\n",
       "         50.2276629 , 50.23204652, 50.23269114, 50.24456783, 50.24506238,\n",
       "         50.25224271, 50.26551775, 50.27603062, 50.28030157, 50.28153885,\n",
       "         50.28294072, 50.2887657 , 50.30187348, 50.30740508, 50.30862886,\n",
       "         50.30918188, 50.31907279, 50.31949466, 50.3262696 , 50.33007636,\n",
       "         50.33818711, 50.35178691, 50.35393612, 50.36022811, 50.36185267,\n",
       "         50.37807523, 50.38037096, 50.38760013, 50.41254366, 50.41286212,\n",
       "         50.41447866, 50.4182901 , 50.42195302, 50.42785813, 50.43068811,\n",
       "         50.43520028, 50.443904  , 50.44671317, 50.45077526, 50.4545387 ,\n",
       "         50.45845769, 50.46455151, 50.46970212, 50.47081741, 50.48425603,\n",
       "         50.5304801 , 50.5342978 , 50.54119546, 50.54324218, 50.54430721,\n",
       "         50.54924871, 50.55840897, 50.5634944 , 50.58778437, 50.60059032,\n",
       "         50.60085961, 50.60203666, 50.60620193, 50.60720154, 50.61147692,\n",
       "         50.61308648, 50.64260439, 50.65245452, 50.65550725, 50.65855471,\n",
       "         50.67568709, 50.68460845, 50.69718968, 50.69791214, 50.69799645,\n",
       "         50.69863404, 50.70230718, 50.70483915, 50.71122447, 50.71338854,\n",
       "         50.7169381 , 50.73203402, 50.73222583, 50.73949152, 50.75826812,\n",
       "         50.75970466, 50.7758408 , 50.77691639, 50.77826564, 50.81426634,\n",
       "         50.82212362, 50.83121936, 50.83245117, 50.83293129, 50.85354633,\n",
       "         50.85545839, 50.86752545, 50.87631102, 50.88335409, 50.88544358,\n",
       "         50.88615736, 50.89160237, 50.8926818 , 50.89510846, 50.90308521,\n",
       "         50.90467516, 50.90631569, 50.90936333, 50.91108109, 50.91697893,\n",
       "         50.91910296, 50.93376341, 50.93700874, 50.9379485 , 50.9438063 ,\n",
       "         50.94732978, 50.95285307, 50.95517786, 50.95860851, 50.98064089,\n",
       "         50.98270565, 50.9895152 , 50.9971151 , 51.00215691, 51.00499064,\n",
       "         51.00787089, 51.0178887 , 51.01806621, 51.02418775, 51.02842916,\n",
       "         51.0349881 , 51.04594283, 51.04662871, 51.05154599, 51.05674387,\n",
       "         51.06788984, 51.08017854, 51.0909483 , 51.10004118, 51.10112286,\n",
       "         51.10116528, 51.10708583, 51.11659247, 51.11712775, 51.12406939,\n",
       "         51.12473813, 51.16839684, 51.17232154, 51.18888861, 51.18899499,\n",
       "         51.19486266, 51.19707448, 51.20763501, 51.21533873, 51.21715027,\n",
       "         51.2240964 , 51.23159887, 51.23170568, 51.23635116, 51.2463945 ,\n",
       "         51.25928585, 51.2739547 , 51.2760534 , 51.28055697, 51.28346862,\n",
       "         51.29047804, 51.29331421, 51.29478618, 51.29542173, 51.29548892,\n",
       "         51.29772319, 51.31083683, 51.31228253, 51.31924641, 51.32526707,\n",
       "         51.33038638, 51.33441105, 51.34069704, 51.36777081, 51.36940443,\n",
       "         51.37302291, 51.37304204, 51.37455477, 51.38484196, 51.38574571,\n",
       "         51.40118227, 51.41488807, 51.41508541, 51.43309572, 51.43747475,\n",
       "         51.44216733, 51.4426947 , 51.44308969, 51.44629644, 51.44942721,\n",
       "         51.45622499, 51.45710407, 51.45844804, 51.46084965, 51.46224273,\n",
       "         51.46353735, 51.47852491, 51.4845693 , 51.52275945, 51.52611717,\n",
       "         51.52852281, 51.52940516, 51.548495  , 51.54869642, 51.55041941,\n",
       "         51.55495292, 51.55980383, 51.56046991, 51.56473093, 51.58365969,\n",
       "         51.58595573, 51.58658024, 51.59128046, 51.59523087, 51.59571886,\n",
       "         51.59601147, 51.60726862, 51.61072231, 51.62265949, 51.63075636,\n",
       "         51.63307055, 51.64306688, 51.65466865, 51.66258063, 51.67248958,\n",
       "         51.6730994 , 51.68538242, 51.69580776, 51.69925939, 51.70098156,\n",
       "         51.71544708, 51.71631866, 51.72411393, 51.73376344, 51.75309717,\n",
       "         51.76157231, 51.76176129, 51.76943259, 51.77877554, 51.78027884,\n",
       "         51.78890968, 51.81093994, 51.8233383 , 51.83058253, 51.83084826,\n",
       "         51.83501915, 51.83712513, 51.84064612, 51.84766897, 51.85617265,\n",
       "         51.86568135, 51.8707203 , 51.87446424, 51.87679336, 51.8806433 ,\n",
       "         51.8883756 , 51.91030517, 51.92152359, 51.92564164, 51.9260372 ,\n",
       "         51.92810779, 51.9298497 , 51.93003199, 51.93031001, 51.93312372,\n",
       "         51.93573974, 51.93605249, 51.94895514, 51.95470633, 51.96719193,\n",
       "         51.96855698, 51.97834211, 51.98008462, 51.99551684, 52.00004684,\n",
       "         52.00985405, 52.01620511, 52.01649617, 52.02353753, 52.03486299,\n",
       "         52.0413924 , 52.05320374, 52.0630258 , 52.06417505, 52.07250819,\n",
       "         52.0757354 , 52.08173101, 52.08387168, 52.1126243 , 52.12391714,\n",
       "         52.13023833, 52.14749267, 52.15039415, 52.15390656, 52.15652029,\n",
       "         52.17869385, 52.1805293 , 52.19036464, 52.19091227, 52.19712983,\n",
       "         52.21265338, 52.2330594 , 52.23770921, 52.24051012, 52.25160743,\n",
       "         52.25696349, 52.25871134, 52.26618276, 52.26970209, 52.2760166 ,\n",
       "         52.2786425 , 52.3051455 , 52.31017707, 52.31126253, 52.32065559,\n",
       "         52.32202982, 52.32363146, 52.33505809, 52.34289705, 52.34734258,\n",
       "         52.35132354, 52.36605594, 52.37624145, 52.39197126, 52.39657003,\n",
       "         52.40494744, 52.4092573 , 52.41128738, 52.41427457, 52.43311856,\n",
       "         52.45130312, 52.46712333, 52.48864661, 52.49427957, 52.49531692,\n",
       "         52.49981842, 52.5056409 , 52.50606432, 52.52614411, 52.5394313 ,\n",
       "         52.56072006, 52.56614903, 52.5692099 , 52.60422731, 52.60489862,\n",
       "         52.61613949, 52.61908447, 52.61972188, 52.6284068 , 52.63310793,\n",
       "         52.64059283, 52.64273618, 52.64793167, 52.64950092, 52.65145464,\n",
       "         52.65758837, 52.66280496, 52.66906444, 52.67243947, 52.67262716,\n",
       "         52.69683737, 52.70283844, 52.72161133, 52.72702069, 52.73663051,\n",
       "         52.74278598, 52.74571722, 52.74720437, 52.74939039, 52.75358611,\n",
       "         52.75612174, 52.75812644, 52.75908713, 52.77668339, 52.77802148,\n",
       "         52.78102864, 52.79213705, 52.79580003, 52.79620471, 52.82716408,\n",
       "         52.83180481, 52.85803485, 52.87139533, 52.89195465, 52.89444274,\n",
       "         52.8945979 , 52.93062714, 52.93809342, 52.938515  , 52.94286421,\n",
       "         52.95618966, 52.96597038, 52.977985  , 52.98362371, 53.00871895,\n",
       "         53.01891756, 53.01920044, 53.02459319, 53.03550882, 53.0410601 ,\n",
       "         53.04855599, 53.05390262, 53.07414006, 53.08033569, 53.09321412,\n",
       "         53.09774992, 53.09877794, 53.11854524, 53.12404359, 53.12959726,\n",
       "         53.1526808 , 53.15469887, 53.15708811, 53.16128235, 53.16920147,\n",
       "         53.17241491, 53.17847965, 53.18726707, 53.18976809, 53.19331475,\n",
       "         53.1991162 , 53.20762319, 53.24469397, 53.25402235, 53.25508797,\n",
       "         53.26462259, 53.26966581, 53.27077558, 53.27794568, 53.28194271,\n",
       "         53.28282313, 53.28337301, 53.31204475, 53.31387016, 53.31432807,\n",
       "         53.32574597, 53.33163699, 53.33474755, 53.34250276, 53.34282215,\n",
       "         53.35203775, 53.3618148 , 53.36677631, 53.37249356, 53.37358216,\n",
       "         53.40873953, 53.41307364, 53.41645573, 53.41749181, 53.42005075,\n",
       "         53.43805649, 53.44234691, 53.44494203, 53.45035679, 53.45520725,\n",
       "         53.46366904, 53.47427043, 53.49275246, 53.50085538, 53.50176476,\n",
       "         53.51230446, 53.52342827, 53.54093583, 53.58314942, 53.58847392,\n",
       "         53.60723624, 53.61765487, 53.64555714, 53.66028765, 53.66661769,\n",
       "         53.71621774, 53.73265467, 53.73271793, 53.73698068, 53.74159451,\n",
       "         53.75100051, 53.76030955, 53.76112455, 53.76279595, 53.76329974,\n",
       "         53.7637947 , 53.77910342, 53.7881255 , 53.8166323 , 53.82168203,\n",
       "         53.84277124, 53.84359092, 53.85401123, 53.85617635, 53.86547048,\n",
       "         53.87268249, 53.88470858, 53.8908771 , 53.92058745, 53.92916546,\n",
       "         53.95347488, 53.95790817, 53.9803836 , 54.00053476, 54.00763094,\n",
       "         54.00909454, 54.01108055, 54.0124278 , 54.01521246, 54.01570667,\n",
       "         54.02608029, 54.04521588, 54.06209379, 54.06374245, 54.09238749,\n",
       "         54.09278314, 54.1216093 , 54.13033071, 54.13907494, 54.14435409,\n",
       "         54.16189615, 54.16546065, 54.16656746, 54.1713624 , 54.19555802,\n",
       "         54.20160623, 54.21269326, 54.21523113, 54.23029052, 54.24841883,\n",
       "         54.27030117, 54.27917814, 54.29681733, 54.29891008, 54.30828497,\n",
       "         54.30834352, 54.30968929, 54.31125635, 54.33608878, 54.34199467,\n",
       "         54.35604292, 54.36323122, 54.37897606, 54.38529128, 54.38691224,\n",
       "         54.38889609, 54.40253643, 54.40362663, 54.41223415, 54.4364773 ,\n",
       "         54.44878023, 54.46552212, 54.46667826, 54.47024309, 54.4770469 ,\n",
       "         54.48110471, 54.4961603 , 54.51005525, 54.52272994, 54.53481805,\n",
       "         54.54155644, 54.55871029, 54.58733103, 54.58790913, 54.59700139,\n",
       "         54.64659325, 54.72637971, 54.745347  , 54.75053688, 54.75359675,\n",
       "         54.80684878, 54.81034757, 54.8274596 , 54.84520377, 54.85201216,\n",
       "         54.85619448, 54.86925385, 54.93752361, 54.94553508, 54.96327364,\n",
       "         54.98815484, 55.02057272, 55.04455527, 55.18031083, 55.20826306,\n",
       "         55.22192718, 55.2237287 , 55.26596172, 55.33036994, 55.36007942,\n",
       "         55.37901931, 55.38040057, 55.43004997, 55.51312019, 55.5275908 ,\n",
       "         55.59731825, 55.62372269, 55.65064539, 55.67043385, 55.71185861,\n",
       "         55.74655843, 55.7785397 , 55.78161104, 55.83026195, 55.85532405,\n",
       "         56.0716528 , 56.10214131, 56.17048781, 56.20649908, 56.25852381,\n",
       "         56.38479683, 56.45736624, 56.47370484, 56.5486434 , 56.55107698,\n",
       "         56.59115076, 56.68567315, 56.70499938, 56.85779114, 57.01820951,\n",
       "         57.20441225, 57.37545382, 57.6127358 , 57.67203209, 57.69969491,\n",
       "         58.40739288, 58.80059585, 59.30286711])),\n",
       " (2.499585990549703, 51.06737874869838, 0.9995559006921012))"
      ]
     },
     "execution_count": 42,
     "metadata": {},
     "output_type": "execute_result"
    },
    {
     "data": {
      "image/png": "[encoded data removed]",
      "text/plain": [
       "<Figure size 432x288 with 1 Axes>"
      ]
     },
     "metadata": {
      "needs_background": "light"
     },
     "output_type": "display_data"
    }
   ],
   "source": [
    "ss.probplot(control.target.values, dist=\"norm\", plot=pylab)"
   ]
  },
  {
   "cell_type": "code",
   "execution_count": 46,
   "metadata": {},
   "outputs": [
    {
     "data": {
      "text/plain": [
       "ShapiroResult(statistic=0.9980449080467224, pvalue=0.29410168528556824)"
      ]
     },
     "execution_count": 46,
     "metadata": {},
     "output_type": "execute_result"
    }
   ],
   "source": [
    "ss.shapiro(test.target.values)"
   ]
  },
  {
   "cell_type": "code",
   "execution_count": 47,
   "metadata": {},
   "outputs": [
    {
     "data": {
      "text/plain": [
       "ShapiroResult(statistic=0.999168336391449, pvalue=0.9478589296340942)"
      ]
     },
     "execution_count": 47,
     "metadata": {},
     "output_type": "execute_result"
    }
   ],
   "source": [
    "ss.shapiro(control.target.values)"
   ]
  },
  {
   "cell_type": "markdown",
   "metadata": {},
   "source": [
    "### Делаем вывод, что обе выборки имеют нормально распределение, будем использовать двухвыборочный t-критерий"
   ]
  },
  {
   "cell_type": "markdown",
   "metadata": {},
   "source": [
    "H0: различие средних незначимо => m1=m2"
   ]
  },
  {
   "cell_type": "code",
   "execution_count": 49,
   "metadata": {},
   "outputs": [
    {
     "data": {
      "text/plain": [
       "Ttest_indResult(statistic=-9.879422047254666, pvalue=1.6631546220432403e-22)"
      ]
     },
     "execution_count": 49,
     "metadata": {},
     "output_type": "execute_result"
    }
   ],
   "source": [
    "ss.ttest_ind(test.target.values,control.target.values,equal_var=False)"
   ]
  },
  {
   "cell_type": "markdown",
   "metadata": {},
   "source": [
    "Отвергаем нулевую гипотезу о равенстве средних в двух выборках => m1!=m2. Получается, что между выборками есть значительное различие. Результат статитсически значим."
   ]
  },
  {
   "cell_type": "code",
   "execution_count": null,
   "metadata": {},
   "outputs": [],
   "source": []
  }
 ],
 "metadata": {
  "kernelspec": {
   "display_name": "Python 3",
   "language": "python",
   "name": "python3"
  },
  "language_info": {
   "codemirror_mode": {
    "name": "ipython",
    "version": 3
   },
   "file_extension": ".py",
   "mimetype": "text/x-python",
   "name": "python",
   "nbconvert_exporter": "python",
   "pygments_lexer": "ipython3",
   "version": "3.8.3"
  }
 },
 "nbformat": 4,
 "nbformat_minor": 4
}
